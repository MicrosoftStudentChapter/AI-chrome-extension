{
 "cells": [
  {
   "cell_type": "markdown",
   "id": "b107d945",
   "metadata": {},
   "source": [
    "data loading\n"
   ]
  },
  {
   "cell_type": "code",
   "execution_count": null,
   "id": "a5bf724b",
   "metadata": {},
   "outputs": [
    {
     "name": "stderr",
     "output_type": "stream",
     "text": [
      "C:\\Users\\Sanchit\\AppData\\Local\\Packages\\PythonSoftwareFoundation.Python.3.13_qbz5n2kfra8p0\\LocalCache\\local-packages\\Python313\\site-packages\\tqdm\\auto.py:21: TqdmWarning: IProgress not found. Please update jupyter and ipywidgets. See https://ipywidgets.readthedocs.io/en/stable/user_install.html\n",
      "  from .autonotebook import tqdm as notebook_tqdm\n"
     ]
    },
    {
     "name": "stdout",
     "output_type": "stream",
     "text": [
      "                                                     text  generated\n",
      "0       Cars. Cars have been around since they became ...        0.0\n",
      "1       Transportation is a large necessity in most co...        0.0\n",
      "2       \"America's love affair with it's vehicles seem...        0.0\n",
      "3       How often do you ride in a car? Do you drive a...        0.0\n",
      "4       Cars are a wonderful thing. They are perhaps o...        0.0\n",
      "...                                                   ...        ...\n",
      "487230  Tie Face on Mars is really just a big misunder...        0.0\n",
      "487231  The whole purpose of democracy is to create a ...        0.0\n",
      "487232  I firmly believe that governments worldwide sh...        1.0\n",
      "487233  I DFN't agree with this decision because a LFT...        0.0\n",
      "487234  Richard Non, Jimmy Carter, and Bob Dole and ot...        0.0\n",
      "\n",
      "[487235 rows x 2 columns]\n"
     ]
    }
   ],
   "source": [
    "import kagglehub\n",
    "import pandas as pd\n",
    "import os\n",
    "import random\n",
    "\n",
    "# Download and get the dataset path\n",
    "path = kagglehub.dataset_download(\"shanegerami/ai-vs-human-text\")\n",
    "csv_path = os.path.join(path, \"AI_Human.csv\")\n",
    "\n",
    "# Load into DataFrame\n",
    "df = pd.read_csv(csv_path)\n",
    "\n",
    "\n",
    "\n",
    "\n"
   ]
  },
  {
   "cell_type": "markdown",
   "id": "270f00c3",
   "metadata": {},
   "source": [
    "data cleaning \n"
   ]
  },
  {
   "cell_type": "code",
   "execution_count": null,
   "id": "302fe04f",
   "metadata": {},
   "outputs": [
    {
     "name": "stdout",
     "output_type": "stream",
     "text": [
      "0.0\n",
      "362876\n",
      "1.0\n"
     ]
    }
   ],
   "source": [
    "class Text:\n",
    "    def __init__(self, text, generated):\n",
    "        self.generated = generated\n",
    "        self.text = text\n",
    "\n",
    "# Create a list of Text objects from the DataFrame\n",
    "data = [Text(row['text'], row['generated']) for _, row in df.iterrows()]\n",
    "\n",
    "#So, for _, row in df.iterrows() means \"for each row in the DataFrame, ignore the index, and use the row data.\"\n",
    "\n",
    "ai_text = list(filter(lambda x : x.generated == 1, data))\n",
    "human_text = list(filter(lambda x : x.generated == 0 , data))\n",
    "human_text_shrunk = human_text[:len(ai_text)]\n",
    "data = ai_text + human_text_shrunk\n",
    "random.shuffle(data)\n",
    "\n"
   ]
  },
  {
   "cell_type": "markdown",
   "id": "f81e2f6a",
   "metadata": {},
   "source": [
    "initalize the tockenizer and the model"
   ]
  },
  {
   "cell_type": "code",
   "execution_count": 3,
   "id": "86db5be2",
   "metadata": {},
   "outputs": [],
   "source": [
    "# Use a pipeline as a high-level helper\n",
    "# from transformers import pipeline\n",
    "\n",
    "# pipe = pipeline(\"fill-mask\", model=\"distilbert/distilbert-base-uncased\")(faster method but for testing model only not for fine tuning it )\n",
    "\n",
    "# Load model directly\n",
    "from transformers import AutoTokenizer, AutoModelForMaskedLM\n",
    "\n",
    "tokenizer = AutoTokenizer.from_pretrained(\"distilbert/distilbert-base-uncased\")\n",
    "model = AutoModelForMaskedLM.from_pretrained(\"distilbert/distilbert-base-uncased\")\n",
    "\n",
    "\n"
   ]
  }
 ],
 "metadata": {
  "kernelspec": {
   "display_name": "Python 3",
   "language": "python",
   "name": "python3"
  },
  "language_info": {
   "codemirror_mode": {
    "name": "ipython",
    "version": 3
   },
   "file_extension": ".py",
   "mimetype": "text/x-python",
   "name": "python",
   "nbconvert_exporter": "python",
   "pygments_lexer": "ipython3",
   "version": "3.13.5"
  }
 },
 "nbformat": 4,
 "nbformat_minor": 5
}
