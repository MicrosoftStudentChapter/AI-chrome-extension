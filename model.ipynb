{
 "cells": [
  {
   "cell_type": "code",
   "execution_count": 17,
   "id": "a5bf724b",
   "metadata": {},
   "outputs": [
    {
     "name": "stdout",
     "output_type": "stream",
     "text": [
      "                                                     text  generated\n",
      "0       Cars. Cars have been around since they became ...        0.0\n",
      "1       Transportation is a large necessity in most co...        0.0\n",
      "2       \"America's love affair with it's vehicles seem...        0.0\n",
      "3       How often do you ride in a car? Do you drive a...        0.0\n",
      "4       Cars are a wonderful thing. They are perhaps o...        0.0\n",
      "...                                                   ...        ...\n",
      "487230  Tie Face on Mars is really just a big misunder...        0.0\n",
      "487231  The whole purpose of democracy is to create a ...        0.0\n",
      "487232  I firmly believe that governments worldwide sh...        1.0\n",
      "487233  I DFN't agree with this decision because a LFT...        0.0\n",
      "487234  Richard Non, Jimmy Carter, and Bob Dole and ot...        0.0\n",
      "\n",
      "[487235 rows x 2 columns]\n"
     ]
    }
   ],
   "source": [
    "import kagglehub\n",
    "import pandas as pd\n",
    "import os\n",
    "\n",
    "# Download and get the dataset path\n",
    "path = kagglehub.dataset_download(\"shanegerami/ai-vs-human-text\")\n",
    "csv_path = os.path.join(path, \"AI_Human.csv\")\n",
    "\n",
    "# Load into DataFrame\n",
    "df = pd.read_csv(csv_path)\n",
    "print(df)\n",
    "\n"
   ]
  }
 ],
 "metadata": {
  "kernelspec": {
   "display_name": "Python 3",
   "language": "python",
   "name": "python3"
  },
  "language_info": {
   "codemirror_mode": {
    "name": "ipython",
    "version": 3
   },
   "file_extension": ".py",
   "mimetype": "text/x-python",
   "name": "python",
   "nbconvert_exporter": "python",
   "pygments_lexer": "ipython3",
   "version": "3.13.5"
  }
 },
 "nbformat": 4,
 "nbformat_minor": 5
}
